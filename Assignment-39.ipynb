{
 "cells": [
  {
   "cell_type": "markdown",
   "id": "6e34908e",
   "metadata": {},
   "source": [
    "### Q1. What is Min-Max scaling, and how is it used in data preprocessing? Provide an example to illustrate its application."
   ]
  },
  {
   "cell_type": "markdown",
   "id": "46e69cf3",
   "metadata": {},
   "source": [
    "Min–max normalization :\n",
    "\n",
    "Min-max normalization (usually called feature scaling) performs a linear transformation on the original data. This technique gets all the scaled data in the range (0, 1). The formula to achieve this is the following:\n",
    "\n",
    "Min-max normalization preserves the relationships among the original data values. The cost of having this bounded range is that we will end up with smaller standard deviations, which can suppress the effect of outliers."
   ]
  },
  {
   "attachments": {
    "image.png": {
     "image/png": "[encoded data removed]"
    }
   },
   "cell_type": "markdown",
   "id": "60e5fd73",
   "metadata": {},
   "source": [
    "![image.png](attachment:image.png)"
   ]
  },
  {
   "cell_type": "markdown",
   "id": "3f6944d5",
   "metadata": {},
   "source": [
    "Data Scaling is a data preprocessing step for numerical features. Many machine learning algorithms like Gradient descent methods, KNN algorithm, linear and logistic regression, etc. require data scaling to produce good results. Various scalers are defined for this purpose. This article concentrates on Standard Scaler and Min-Max scaler. The task here is to discuss what they mean and how they are implemented using in-built functions that come with this package.\n",
    "\n",
    "\n",
    "Apart from supporting library functions other functions that will be used to achieve the functionality are:\n",
    "\n",
    "* The fit(data) method is used to compute the mean and std dev for a given feature so that it can be used further for scaling.\n",
    "* The transform(data) method is used to perform scaling using mean and std dev calculated using the .fit() method.\n",
    "* The fit_transform() method does both fit and transform."
   ]
  },
  {
   "cell_type": "code",
   "execution_count": 1,
   "id": "d4f9022a",
   "metadata": {},
   "outputs": [
    {
     "name": "stdout",
     "output_type": "stream",
     "text": [
      "[[ 0.97596444 -1.61155897]\n",
      " [-0.66776515  0.08481889]\n",
      " [-1.28416374  1.10264561]\n",
      " [ 0.97596444  0.42409446]]\n"
     ]
    }
   ],
   "source": [
    "# import module\n",
    "from sklearn.preprocessing import StandardScaler\n",
    " \n",
    "# create data\n",
    "data = [[11, 2], [3, 7], [0, 10], [11, 8]]\n",
    " \n",
    "# compute required values\n",
    "scaler = StandardScaler()\n",
    "model = scaler.fit(data)\n",
    "scaled_data = model.transform(data)\n",
    " \n",
    "# print scaled data\n",
    "print(scaled_data)"
   ]
  },
  {
   "cell_type": "code",
   "execution_count": null,
   "id": "3514760b",
   "metadata": {},
   "outputs": [],
   "source": []
  },
  {
   "cell_type": "markdown",
   "id": "8159eefe",
   "metadata": {},
   "source": [
    "### Q2. What is the Unit Vector technique in feature scaling, and how does it differ from Min-Max scaling? Provide an example to illustrate its application."
   ]
  },
  {
   "cell_type": "markdown",
   "id": "788f49fb",
   "metadata": {},
   "source": [
    "Unit Vector Scaling technique is done considering the whole feature vector to be of unit length,Unit vector scaling means dividing each component by the Euclidean length of the vector (L2 Norm),Unit Vector technique produces values of range [0,1]. When dealing with features with hard boundaries, this is quite useful ex. when dealing with image data, the colors can range from only 0 to 255."
   ]
  },
  {
   "cell_type": "markdown",
   "id": "50fc02bd",
   "metadata": {},
   "source": [
    "we can use the Unit Vector Scaling technique using sklearn library sklearn.preprocessing.power_transform"
   ]
  },
  {
   "cell_type": "code",
   "execution_count": 5,
   "id": "add8f470",
   "metadata": {},
   "outputs": [],
   "source": [
    "import pandas as pd\n",
    "import numpy as np"
   ]
  },
  {
   "cell_type": "code",
   "execution_count": 6,
   "id": "cddbba96",
   "metadata": {},
   "outputs": [
    {
     "data": {
      "text/html": [
       "<div>\n",
       "<style scoped>\n",
       "    .dataframe tbody tr th:only-of-type {\n",
       "        vertical-align: middle;\n",
       "    }\n",
       "\n",
       "    .dataframe tbody tr th {\n",
       "        vertical-align: top;\n",
       "    }\n",
       "\n",
       "    .dataframe thead th {\n",
       "        text-align: right;\n",
       "    }\n",
       "</style>\n",
       "<table border=\"1\" class=\"dataframe\">\n",
       "  <thead>\n",
       "    <tr style=\"text-align: right;\">\n",
       "      <th></th>\n",
       "      <th>WEIGHT</th>\n",
       "      <th>PRICE</th>\n",
       "    </tr>\n",
       "  </thead>\n",
       "  <tbody>\n",
       "    <tr>\n",
       "      <th>Orange</th>\n",
       "      <td>0.272727</td>\n",
       "      <td>0.090909</td>\n",
       "    </tr>\n",
       "    <tr>\n",
       "      <th>Apple</th>\n",
       "      <td>0.327273</td>\n",
       "      <td>0.272727</td>\n",
       "    </tr>\n",
       "    <tr>\n",
       "      <th>Banana</th>\n",
       "      <td>0.218182</td>\n",
       "      <td>0.181818</td>\n",
       "    </tr>\n",
       "    <tr>\n",
       "      <th>Grape</th>\n",
       "      <td>0.181818</td>\n",
       "      <td>0.454545</td>\n",
       "    </tr>\n",
       "  </tbody>\n",
       "</table>\n",
       "</div>"
      ],
      "text/plain": [
       "          WEIGHT     PRICE\n",
       "Orange  0.272727  0.090909\n",
       "Apple   0.327273  0.272727\n",
       "Banana  0.218182  0.181818\n",
       "Grape   0.181818  0.454545"
      ]
     },
     "execution_count": 6,
     "metadata": {},
     "output_type": "execute_result"
    }
   ],
   "source": [
    "df = pd.DataFrame({'WEIGHT': [15, 18, 12,10],\n",
    "                   'PRICE': [1,3,2,5]},\n",
    "                   index = ['Orange','Apple','Banana','Grape'])\n",
    "df1=df.apply(lambda x:x/np.linalg.norm(x,1))\n",
    "df1"
   ]
  },
  {
   "cell_type": "code",
   "execution_count": 8,
   "id": "c8c6f008",
   "metadata": {},
   "outputs": [],
   "source": [
    "import matplotlib.pyplot as plt"
   ]
  },
  {
   "cell_type": "code",
   "execution_count": 9,
   "id": "dbcae50e",
   "metadata": {},
   "outputs": [
    {
     "data": {
      "image/png": "[encoded data removed]",
      "text/plain": [
       "<Figure size 432x288 with 1 Axes>"
      ]
     },
     "metadata": {
      "needs_background": "light"
     },
     "output_type": "display_data"
    }
   ],
   "source": [
    "ax=df.plot.scatter(x=\"WEIGHT\",y=\"PRICE\",label=\"Before Scaling\",color=\"red\")\n",
    "df1.plot.scatter(x=\"WEIGHT\",y=\"PRICE\",label=\"After Scaling\",color=\"green\",ax=ax)\n",
    "plt.axhline(0, color='red',alpha=0.2)\n",
    "plt.axvline(0, color='red',alpha=0.2);"
   ]
  },
  {
   "cell_type": "code",
   "execution_count": null,
   "id": "d94442c8",
   "metadata": {},
   "outputs": [],
   "source": []
  },
  {
   "cell_type": "code",
   "execution_count": null,
   "id": "760903df",
   "metadata": {},
   "outputs": [],
   "source": []
  },
  {
   "cell_type": "markdown",
   "id": "daeb44f9",
   "metadata": {},
   "source": [
    "### Q3. What is PCA (Principle Component Analysis), and how is it used in dimensionality reduction? Provide an example to illustrate its application."
   ]
  },
  {
   "cell_type": "markdown",
   "id": "c7f1aecd",
   "metadata": {},
   "source": [
    "Principal Component Analysis :\n",
    "\n",
    "Principal Component Analysis is an unsupervised learning algorithm that is used for the dimensionality reduction in machine learning. It is a statistical process that converts the observations of correlated features into a set of linearly uncorrelated features with the help of orthogonal transformation. These new transformed features are called the Principal Components. It is one of the popular tools that is used for exploratory data analysis and predictive modeling. It is a technique to draw strong patterns from the given dataset by reducing the variances.\n",
    "\n",
    "PCA generally tries to find the lower-dimensional surface to project the high-dimensional data."
   ]
  },
  {
   "cell_type": "markdown",
   "id": "b0526136",
   "metadata": {},
   "source": [
    "##### Steps for PCA algorithm :"
   ]
  },
  {
   "cell_type": "markdown",
   "id": "2144ae81",
   "metadata": {},
   "source": [
    "* Getting the dataset : Firstly, we need to take the input dataset and divide it into two subparts X and Y, where X is the training set, and Y is the validation set.\n",
    "\n",
    "\n",
    "* Representing data into a structure : Now we will represent our dataset into a structure. Such as we will represent the two-dimensional matrix of independent variable X. Here each row corresponds to the data items, and the column corresponds to the Features. The number of columns is the dimensions of the dataset.\n",
    "\n",
    "\n",
    "* Standardizing the data : In this step, we will standardize our dataset. Such as in a particular column, the features with high variance are more important compared to the features with lower variance. If the importance of features is independent of the variance of the feature, then we will divide each data item in a column with the standard deviation of the column. Here we will name the matrix as Z.\n",
    "\n",
    "\n",
    "* Calculating the Covariance of Z : To calculate the covariance of Z, we will take the matrix Z, and will transpose it. After transpose, we will multiply it by Z. The output matrix will be the Covariance matrix of Z.\n",
    "\n",
    "\n",
    "* Calculating the Eigen Values and Eigen Vectors : Now we need to calculate the eigenvalues and eigenvectors for the resultant covariance matrix Z. Eigenvectors or the covariance matrix are the directions of the axes with high information. And the coefficients of these eigenvectors are defined as the eigenvalues.\n",
    "\n",
    "\n",
    "* Sorting the Eigen Vectors :  In this step, we will take all the eigenvalues and will sort them in decreasing order, which means from largest to smallest. And simultaneously sort the eigenvectors accordingly in matrix P of eigenvalues. The resultant matrix will be named as P*.\n",
    "\n",
    "\n",
    "* Calculating the new features Or Principal Components : Here we will calculate the new features. To do this, we will multiply the P* matrix to the Z. In the resultant matrix Z*, each observation is the linear combination of original features. Each column of the Z* matrix is independent of each other.\n",
    "\n",
    "\n",
    "* Remove less or unimportant features from the new dataset : The new feature set has occurred, so we will decide here what to keep and what to remove. It means, we will only keep the relevant or important features in the new dataset, and unimportant features will be removed out."
   ]
  },
  {
   "attachments": {
    "image-2.png": {
     "image/png": "[encoded data removed]"
    }
   },
   "cell_type": "markdown",
   "id": "ec01bb48",
   "metadata": {},
   "source": [
    "![image-2.png](attachment:image-2.png)"
   ]
  },
  {
   "cell_type": "code",
   "execution_count": 10,
   "id": "7e89251b",
   "metadata": {},
   "outputs": [],
   "source": [
    "# Import necessary libraries\n",
    "from sklearn import datasets  # to retrieve the iris Dataset\n",
    "import pandas as pd  # to load the dataframe\n",
    "from sklearn.preprocessing import StandardScaler  # to standardize the features\n",
    "from sklearn.decomposition import PCA  # to apply PCA\n",
    "import seaborn as sns  # to plot the heat maps"
   ]
  },
  {
   "cell_type": "code",
   "execution_count": 11,
   "id": "1daee3c7",
   "metadata": {},
   "outputs": [
    {
     "data": {
      "text/html": [
       "<div>\n",
       "<style scoped>\n",
       "    .dataframe tbody tr th:only-of-type {\n",
       "        vertical-align: middle;\n",
       "    }\n",
       "\n",
       "    .dataframe tbody tr th {\n",
       "        vertical-align: top;\n",
       "    }\n",
       "\n",
       "    .dataframe thead th {\n",
       "        text-align: right;\n",
       "    }\n",
       "</style>\n",
       "<table border=\"1\" class=\"dataframe\">\n",
       "  <thead>\n",
       "    <tr style=\"text-align: right;\">\n",
       "      <th></th>\n",
       "      <th>sepal length (cm)</th>\n",
       "      <th>sepal width (cm)</th>\n",
       "      <th>petal length (cm)</th>\n",
       "      <th>petal width (cm)</th>\n",
       "    </tr>\n",
       "  </thead>\n",
       "  <tbody>\n",
       "    <tr>\n",
       "      <th>0</th>\n",
       "      <td>5.1</td>\n",
       "      <td>3.5</td>\n",
       "      <td>1.4</td>\n",
       "      <td>0.2</td>\n",
       "    </tr>\n",
       "    <tr>\n",
       "      <th>1</th>\n",
       "      <td>4.9</td>\n",
       "      <td>3.0</td>\n",
       "      <td>1.4</td>\n",
       "      <td>0.2</td>\n",
       "    </tr>\n",
       "    <tr>\n",
       "      <th>2</th>\n",
       "      <td>4.7</td>\n",
       "      <td>3.2</td>\n",
       "      <td>1.3</td>\n",
       "      <td>0.2</td>\n",
       "    </tr>\n",
       "    <tr>\n",
       "      <th>3</th>\n",
       "      <td>4.6</td>\n",
       "      <td>3.1</td>\n",
       "      <td>1.5</td>\n",
       "      <td>0.2</td>\n",
       "    </tr>\n",
       "    <tr>\n",
       "      <th>4</th>\n",
       "      <td>5.0</td>\n",
       "      <td>3.6</td>\n",
       "      <td>1.4</td>\n",
       "      <td>0.2</td>\n",
       "    </tr>\n",
       "  </tbody>\n",
       "</table>\n",
       "</div>"
      ],
      "text/plain": [
       "   sepal length (cm)  sepal width (cm)  petal length (cm)  petal width (cm)\n",
       "0                5.1               3.5                1.4               0.2\n",
       "1                4.9               3.0                1.4               0.2\n",
       "2                4.7               3.2                1.3               0.2\n",
       "3                4.6               3.1                1.5               0.2\n",
       "4                5.0               3.6                1.4               0.2"
      ]
     },
     "execution_count": 11,
     "metadata": {},
     "output_type": "execute_result"
    }
   ],
   "source": [
    "#Load the Dataset\n",
    "iris = datasets.load_iris()\n",
    "#convert the dataset into a pandas data frame\n",
    "df = pd.DataFrame(iris['data'], columns = iris['feature_names'])\n",
    "#display the head (first 5 rows) of the dataset\n",
    "df.head()\n"
   ]
  },
  {
   "cell_type": "code",
   "execution_count": 12,
   "id": "8a3c9f66",
   "metadata": {},
   "outputs": [
    {
     "data": {
      "text/html": [
       "<div>\n",
       "<style scoped>\n",
       "    .dataframe tbody tr th:only-of-type {\n",
       "        vertical-align: middle;\n",
       "    }\n",
       "\n",
       "    .dataframe tbody tr th {\n",
       "        vertical-align: top;\n",
       "    }\n",
       "\n",
       "    .dataframe thead th {\n",
       "        text-align: right;\n",
       "    }\n",
       "</style>\n",
       "<table border=\"1\" class=\"dataframe\">\n",
       "  <thead>\n",
       "    <tr style=\"text-align: right;\">\n",
       "      <th></th>\n",
       "      <th>0</th>\n",
       "      <th>1</th>\n",
       "      <th>2</th>\n",
       "      <th>3</th>\n",
       "    </tr>\n",
       "  </thead>\n",
       "  <tbody>\n",
       "    <tr>\n",
       "      <th>0</th>\n",
       "      <td>-0.900681</td>\n",
       "      <td>1.019004</td>\n",
       "      <td>-1.340227</td>\n",
       "      <td>-1.315444</td>\n",
       "    </tr>\n",
       "    <tr>\n",
       "      <th>1</th>\n",
       "      <td>-1.143017</td>\n",
       "      <td>-0.131979</td>\n",
       "      <td>-1.340227</td>\n",
       "      <td>-1.315444</td>\n",
       "    </tr>\n",
       "    <tr>\n",
       "      <th>2</th>\n",
       "      <td>-1.385353</td>\n",
       "      <td>0.328414</td>\n",
       "      <td>-1.397064</td>\n",
       "      <td>-1.315444</td>\n",
       "    </tr>\n",
       "    <tr>\n",
       "      <th>3</th>\n",
       "      <td>-1.506521</td>\n",
       "      <td>0.098217</td>\n",
       "      <td>-1.283389</td>\n",
       "      <td>-1.315444</td>\n",
       "    </tr>\n",
       "    <tr>\n",
       "      <th>4</th>\n",
       "      <td>-1.021849</td>\n",
       "      <td>1.249201</td>\n",
       "      <td>-1.340227</td>\n",
       "      <td>-1.315444</td>\n",
       "    </tr>\n",
       "    <tr>\n",
       "      <th>...</th>\n",
       "      <td>...</td>\n",
       "      <td>...</td>\n",
       "      <td>...</td>\n",
       "      <td>...</td>\n",
       "    </tr>\n",
       "    <tr>\n",
       "      <th>145</th>\n",
       "      <td>1.038005</td>\n",
       "      <td>-0.131979</td>\n",
       "      <td>0.819596</td>\n",
       "      <td>1.448832</td>\n",
       "    </tr>\n",
       "    <tr>\n",
       "      <th>146</th>\n",
       "      <td>0.553333</td>\n",
       "      <td>-1.282963</td>\n",
       "      <td>0.705921</td>\n",
       "      <td>0.922303</td>\n",
       "    </tr>\n",
       "    <tr>\n",
       "      <th>147</th>\n",
       "      <td>0.795669</td>\n",
       "      <td>-0.131979</td>\n",
       "      <td>0.819596</td>\n",
       "      <td>1.053935</td>\n",
       "    </tr>\n",
       "    <tr>\n",
       "      <th>148</th>\n",
       "      <td>0.432165</td>\n",
       "      <td>0.788808</td>\n",
       "      <td>0.933271</td>\n",
       "      <td>1.448832</td>\n",
       "    </tr>\n",
       "    <tr>\n",
       "      <th>149</th>\n",
       "      <td>0.068662</td>\n",
       "      <td>-0.131979</td>\n",
       "      <td>0.762758</td>\n",
       "      <td>0.790671</td>\n",
       "    </tr>\n",
       "  </tbody>\n",
       "</table>\n",
       "<p>150 rows × 4 columns</p>\n",
       "</div>"
      ],
      "text/plain": [
       "            0         1         2         3\n",
       "0   -0.900681  1.019004 -1.340227 -1.315444\n",
       "1   -1.143017 -0.131979 -1.340227 -1.315444\n",
       "2   -1.385353  0.328414 -1.397064 -1.315444\n",
       "3   -1.506521  0.098217 -1.283389 -1.315444\n",
       "4   -1.021849  1.249201 -1.340227 -1.315444\n",
       "..        ...       ...       ...       ...\n",
       "145  1.038005 -0.131979  0.819596  1.448832\n",
       "146  0.553333 -1.282963  0.705921  0.922303\n",
       "147  0.795669 -0.131979  0.819596  1.053935\n",
       "148  0.432165  0.788808  0.933271  1.448832\n",
       "149  0.068662 -0.131979  0.762758  0.790671\n",
       "\n",
       "[150 rows x 4 columns]"
      ]
     },
     "execution_count": 12,
     "metadata": {},
     "output_type": "execute_result"
    }
   ],
   "source": [
    "#Standardize the features\n",
    "#Create an object of StandardScaler which is present in sklearn.preprocessing\n",
    "scalar = StandardScaler()\n",
    "scaled_data = pd.DataFrame(scalar.fit_transform(df)) #scaling the data\n",
    "scaled_data\n"
   ]
  },
  {
   "cell_type": "code",
   "execution_count": 13,
   "id": "d5801e6d",
   "metadata": {},
   "outputs": [
    {
     "data": {
      "text/plain": [
       "<AxesSubplot:>"
      ]
     },
     "execution_count": 13,
     "metadata": {},
     "output_type": "execute_result"
    },
    {
     "data": {
      "image/png": "[encoded data removed]",
      "text/plain": [
       "<Figure size 432x288 with 2 Axes>"
      ]
     },
     "metadata": {
      "needs_background": "light"
     },
     "output_type": "display_data"
    }
   ],
   "source": [
    "#Check the Co-relation between features without PCA\n",
    "sns.heatmap(scaled_data.corr())\n"
   ]
  },
  {
   "cell_type": "code",
   "execution_count": 14,
   "id": "fa5fc4d1",
   "metadata": {},
   "outputs": [
    {
     "data": {
      "text/html": [
       "<div>\n",
       "<style scoped>\n",
       "    .dataframe tbody tr th:only-of-type {\n",
       "        vertical-align: middle;\n",
       "    }\n",
       "\n",
       "    .dataframe tbody tr th {\n",
       "        vertical-align: top;\n",
       "    }\n",
       "\n",
       "    .dataframe thead th {\n",
       "        text-align: right;\n",
       "    }\n",
       "</style>\n",
       "<table border=\"1\" class=\"dataframe\">\n",
       "  <thead>\n",
       "    <tr style=\"text-align: right;\">\n",
       "      <th></th>\n",
       "      <th>PC1</th>\n",
       "      <th>PC2</th>\n",
       "      <th>PC3</th>\n",
       "    </tr>\n",
       "  </thead>\n",
       "  <tbody>\n",
       "    <tr>\n",
       "      <th>0</th>\n",
       "      <td>-2.264703</td>\n",
       "      <td>0.480027</td>\n",
       "      <td>-0.127706</td>\n",
       "    </tr>\n",
       "    <tr>\n",
       "      <th>1</th>\n",
       "      <td>-2.080961</td>\n",
       "      <td>-0.674134</td>\n",
       "      <td>-0.234609</td>\n",
       "    </tr>\n",
       "    <tr>\n",
       "      <th>2</th>\n",
       "      <td>-2.364229</td>\n",
       "      <td>-0.341908</td>\n",
       "      <td>0.044201</td>\n",
       "    </tr>\n",
       "    <tr>\n",
       "      <th>3</th>\n",
       "      <td>-2.299384</td>\n",
       "      <td>-0.597395</td>\n",
       "      <td>0.091290</td>\n",
       "    </tr>\n",
       "    <tr>\n",
       "      <th>4</th>\n",
       "      <td>-2.389842</td>\n",
       "      <td>0.646835</td>\n",
       "      <td>0.015738</td>\n",
       "    </tr>\n",
       "  </tbody>\n",
       "</table>\n",
       "</div>"
      ],
      "text/plain": [
       "        PC1       PC2       PC3\n",
       "0 -2.264703  0.480027 -0.127706\n",
       "1 -2.080961 -0.674134 -0.234609\n",
       "2 -2.364229 -0.341908  0.044201\n",
       "3 -2.299384 -0.597395  0.091290\n",
       "4 -2.389842  0.646835  0.015738"
      ]
     },
     "execution_count": 14,
     "metadata": {},
     "output_type": "execute_result"
    }
   ],
   "source": [
    "#Applying PCA\n",
    "#Taking no. of Principal Components as 3\n",
    "pca = PCA(n_components = 3)\n",
    "pca.fit(scaled_data)\n",
    "data_pca = pca.transform(scaled_data)\n",
    "data_pca = pd.DataFrame(data_pca,columns=['PC1','PC2','PC3'])\n",
    "data_pca.head()\n"
   ]
  },
  {
   "cell_type": "code",
   "execution_count": 15,
   "id": "f721ef37",
   "metadata": {},
   "outputs": [
    {
     "data": {
      "text/plain": [
       "<AxesSubplot:>"
      ]
     },
     "execution_count": 15,
     "metadata": {},
     "output_type": "execute_result"
    },
    {
     "data": {
      "image/png": "[encoded data removed]",
      "text/plain": [
       "<Figure size 432x288 with 2 Axes>"
      ]
     },
     "metadata": {
      "needs_background": "light"
     },
     "output_type": "display_data"
    }
   ],
   "source": [
    "#Checking Co-relation between features after PCA\n",
    "sns.heatmap(data_pca.corr())\n"
   ]
  },
  {
   "cell_type": "code",
   "execution_count": null,
   "id": "700e8b98",
   "metadata": {},
   "outputs": [],
   "source": []
  },
  {
   "cell_type": "code",
   "execution_count": null,
   "id": "26198b58",
   "metadata": {},
   "outputs": [],
   "source": []
  },
  {
   "cell_type": "markdown",
   "id": "7153da9b",
   "metadata": {},
   "source": [
    "### Q4. What is the relationship between PCA and Feature Extraction, and how can PCA be used for Feature Extraction? Provide an example to illustrate this concept."
   ]
  },
  {
   "cell_type": "markdown",
   "id": "085619f3",
   "metadata": {},
   "source": [
    "Principal Component Analysis (PCA) is a dimensionality reduction technique that is commonly used for feature extraction in machine learning and data analysis. Its primary goal is to reduce the number of features (dimensions) in a dataset while preserving as much of the important information as possible. PCA does this by identifying the principal components in the data, which are linear combinations of the original features. These principal components capture the most significant sources of variation in the data.\n",
    "\n",
    "Here's how PCA can be used for feature extraction:\n",
    "\n",
    "1. **Data Preparation**: Start with a dataset that has a high-dimensional feature space, where each feature represents a different attribute or variable. For example, you might have a dataset with features like age, income, education level, and so on.\n",
    "\n",
    "2. **Standardization**: Before applying PCA, it's a good practice to standardize or normalize the data so that all features have the same scale. This step ensures that features with larger scales don't dominate the PCA process.\n",
    "\n",
    "3. **PCA Application**: Apply PCA to the standardized data. PCA will transform the original features into a new set of features called principal components. These principal components are linear combinations of the original features, where each component represents a different direction in the high-dimensional space. The first principal component explains the most variance in the data, the second explains the second most variance, and so on.\n",
    "\n",
    "4. **Feature Selection**: You can choose to keep a subset of the principal components that capture a sufficient amount of variance in the data. This is where feature extraction occurs. By selecting a subset of principal components, you effectively reduce the dimensionality of your dataset.\n",
    "\n",
    "5. **Dimensionality Reduction**: The selected principal components become the new features of your dataset. These features are a reduced representation of the original data, but they still capture the most important information.\n",
    "\n",
    "6. **Example**:\n",
    "\n",
    "   Suppose you have a dataset with the following three features: age, income, and education level, and you want to perform feature extraction using PCA. After standardizing the data, you apply PCA and find that the first two principal components explain 95% of the variance in the data. You decide to keep only these two principal components as your new features.\n",
    "\n",
    "   - The first principal component might be a combination of age, income, and education level that captures the most significant source of variation in your data.\n",
    "   - The second principal component might capture a different combination of these features that accounts for the second most significant source of variation.\n",
    "\n",
    "   Now, instead of using the original three features, you use the values of the first and second principal components as your new features for further analysis or modeling. These two principal components are a reduced representation of the original data and can often lead to more efficient and effective models.\n",
    "\n",
    "In summary, PCA can be used for feature extraction by transforming high-dimensional data into a lower-dimensional representation while retaining the most important information in the dataset. This reduction in dimensionality can improve model performance and reduce the risk of overfitting, especially when dealing with datasets with a large number of features."
   ]
  },
  {
   "cell_type": "code",
   "execution_count": 16,
   "id": "8329d04c",
   "metadata": {},
   "outputs": [
    {
     "name": "stdout",
     "output_type": "stream",
     "text": [
      "Explained Variance Ratios: [0.97009573 0.02677066 0.0031336 ]\n",
      "Reduced Data (first two components):\n",
      " [[-0.88866824 -0.23915291]\n",
      " [ 1.25547692  0.02595651]\n",
      " [-2.20325422 -0.20858466]\n",
      " [ 2.59823574 -0.11409785]\n",
      " [-0.76179021  0.53587892]]\n"
     ]
    }
   ],
   "source": [
    "import numpy as np\n",
    "from sklearn.decomposition import PCA\n",
    "from sklearn.preprocessing import StandardScaler\n",
    "\n",
    "# Sample data with three features: age, income, and education level\n",
    "data = np.array([[35, 60000, 16],\n",
    "                 [45, 75000, 20],\n",
    "                 [28, 50000, 14],\n",
    "                 [55, 82000, 22],\n",
    "                 [32, 58000, 18]])\n",
    "\n",
    "# Step 2: Standardize the data\n",
    "scaler = StandardScaler()\n",
    "data_standardized = scaler.fit_transform(data)\n",
    "\n",
    "# Step 3: Apply PCA\n",
    "pca = PCA()\n",
    "pca.fit(data_standardized)\n",
    "\n",
    "# Step 4: Determine the number of components to keep\n",
    "# In practice, you may choose a number of components that explain a certain percentage of variance\n",
    "# For this example, let's say we want to keep the first two components\n",
    "num_components = 2\n",
    "\n",
    "# Step 5: Perform dimensionality reduction\n",
    "reduced_data = pca.transform(data_standardized)[:, :num_components]\n",
    "\n",
    "# The reduced_data now contains the new features obtained through PCA\n",
    "\n",
    "# You can access the explained variance ratio for each component to assess their importance\n",
    "explained_variance_ratio = pca.explained_variance_ratio_\n",
    "print(\"Explained Variance Ratios:\", explained_variance_ratio)\n",
    "\n",
    "# You can also access the principal components themselves\n",
    "principal_components = pca.components_\n",
    "\n",
    "# Now 'reduced_data' contains the reduced features, and you can use them for further analysis or modeling\n",
    "print(\"Reduced Data (first two components):\\n\", reduced_data)"
   ]
  },
  {
   "cell_type": "code",
   "execution_count": null,
   "id": "085c6b34",
   "metadata": {},
   "outputs": [],
   "source": []
  },
  {
   "cell_type": "markdown",
   "id": "31d35be8",
   "metadata": {},
   "source": [
    "### Q5. You are working on a project to build a recommendation system for a food delivery service. The dataset contains features such as price, rating, and delivery time. Explain how you would use Min-Max scaling to preprocess the data."
   ]
  },
  {
   "cell_type": "markdown",
   "id": "bed3ff40",
   "metadata": {},
   "source": [
    "Min-Max scaling, also known as feature scaling or normalization, is a preprocessing technique used to transform numerical features in a dataset to a specific range, typically between 0 and 1. This scaling method can be particularly useful when dealing with features that have different scales or units, as it helps ensure that all features contribute equally to machine learning models or algorithms. Here's how we would use Min-Max scaling to preprocess the data for your food delivery recommendation system project:\n",
    "\n",
    "1. **Understand the Dataset**:\n",
    "   Start by understanding the dataset, including the features you have, their data types, and their potential impact on the recommendation system. In your case, you mentioned features such as price, rating, and delivery time.\n",
    "\n",
    "\n",
    "2. **Import Libraries**:\n",
    "   Import the necessary libraries for data manipulation and scaling. In Python, you can use libraries like NumPy, pandas, and scikit-learn:\n",
    "\n",
    "   ```python\n",
    "   import numpy as np\n",
    "   import pandas as pd\n",
    "   from sklearn.preprocessing import MinMaxScaler\n",
    "   ```\n",
    "\n",
    "\n",
    "3. **Load and Prepare the Data**:\n",
    "   Load our dataset into a pandas DataFrame and select the numerical features that need to be scaled. For instance:\n",
    "\n",
    "   ```python\n",
    "   # Assuming 'df' is your DataFrame and you want to scale 'price', 'rating', and 'delivery_time' columns\n",
    "   numerical_features = ['price', 'rating', 'delivery_time']\n",
    "   ```\n",
    "\n",
    "\n",
    "4. **Initialize the Min-Max Scaler**:\n",
    "   Create an instance of the MinMaxScaler:\n",
    "\n",
    "   ```python\n",
    "   scaler = MinMaxScaler()\n",
    "   ```\n",
    "\n",
    "\n",
    "5. **Fit and Transform the Data**:\n",
    "   Fit the scaler to your selected features and then transform the data:\n",
    "\n",
    "   ```python\n",
    "   df[numerical_features] = scaler.fit_transform(df[numerical_features])\n",
    "   ```\n",
    "\n",
    "   This step scales the selected features to a range between 0 and 1 based on the minimum and maximum values in each feature.\n",
    "\n",
    "\n",
    "6. **Check the Scaled Data**:\n",
    "   Verify that the scaling has been applied correctly by examining the updated DataFrame. our selected features should now be scaled within the 0-1 range.\n",
    "\n",
    "\n",
    "7. **Proceed with Recommendation System Development**:\n",
    "   With the numerical features properly scaled, you can now use them as inputs to your recommendation system algorithm. Whether you're building a collaborative filtering model, content-based filtering, or a hybrid approach, having consistent and scaled features will help ensure that no single feature dominates the recommendation process due to its larger scale.\n",
    "\n",
    "\n",
    "8. **Monitor Performance**:\n",
    "   During the development and evaluation of your recommendation system, closely monitor its performance to ensure that the scaling of features has improved the model's effectiveness. Make adjustments as needed.\n",
    "\n",
    "\n",
    "\n",
    "By using Min-Max scaling, we've made our numerical features comparable and have prepared them for use in your recommendation system. This preprocessing step helps ensure that each feature contributes meaningfully to the recommendation process, leading to better and more balanced recommendations."
   ]
  },
  {
   "cell_type": "code",
   "execution_count": null,
   "id": "733eef65",
   "metadata": {},
   "outputs": [],
   "source": []
  },
  {
   "cell_type": "markdown",
   "id": "73ebec1b",
   "metadata": {},
   "source": [
    "### Q6. You are working on a project to build a model to predict stock prices. The dataset contains many features, such as company financial data and market trends. Explain how you would use PCA to reduce the dimensionality of the dataset."
   ]
  },
  {
   "cell_type": "markdown",
   "id": "7338f3eb",
   "metadata": {},
   "source": [
    "Using Principal Component Analysis (PCA) to reduce the dimensionality of a dataset in the context of building a model to predict stock prices is a common technique to handle high-dimensional data and mitigate issues like multicollinearity. Here's a step-by-step guide on how we can apply PCA to reduce the dimensionality of your dataset:\n",
    "\n",
    "1. **Understand Your Dataset**:\n",
    "   Begin by thoroughly understanding your dataset. This includes identifying all the features you have, their data types, and their relevance to predicting stock prices. our dataset may contain financial metrics, market trends, and other factors that can potentially impact stock prices.\n",
    "\n",
    "\n",
    "2. **Data Preprocessing**:\n",
    "   Before applying PCA, we should perform necessary data preprocessing steps such as:\n",
    "   - Handling missing data: Decide how to handle missing values, whether through imputation or removal.\n",
    "   - Feature engineering: Create new features that may be more informative for stock price prediction.\n",
    "   - Standardization: Standardize or normalize the data so that all features have the same scale. PCA is sensitive to the scale of the variables, so it's crucial to standardize them.\n",
    "\n",
    "\n",
    "3. **Select the Features for PCA**:\n",
    "   Identify the subset of features that you want to include in the PCA. You may choose to include all relevant features or a subset of them based on your domain knowledge and problem goals.\n",
    "\n",
    "\n",
    "4. **Apply PCA**:\n",
    "   Here's how we can apply PCA using Python and scikit-learn:\n",
    "\n",
    "   ```python\n",
    "   from sklearn.decomposition import PCA\n",
    "   from sklearn.preprocessing import StandardScaler\n",
    "\n",
    "   # Assuming 'X' is your feature matrix (e.g., financial data and market trends)\n",
    "   \n",
    "   # Step 1: Standardize the data\n",
    "   scaler = StandardScaler()\n",
    "   X_standardized = scaler.fit_transform(X)\n",
    "   \n",
    "   # Step 2: Apply PCA\n",
    "   pca = PCA(n_components=desired_num_components)\n",
    "   X_pca = pca.fit_transform(X_standardized)\n",
    "   ```\n",
    "\n",
    "   - In the code above, `StandardScaler` is used to standardize the data, ensuring all features have the same scale.\n",
    "   - `PCA` is applied with the `n_components` parameter set to the desired number of principal components. You can choose this number based on the amount of variance you want to retain (e.g., 95% of variance) or based on domain knowledge.\n",
    "\n",
    "\n",
    "5. **Examine Explained Variance**:\n",
    "   After applying PCA, we can examine the explained variance ratio to understand how much variance is retained by each principal component. This information can help you decide how many principal components to keep. For example:\n",
    "\n",
    "   ```python\n",
    "   explained_variance_ratio = pca.explained_variance_ratio_\n",
    "   ```\n",
    "\n",
    "\n",
    "6. **Select the Number of Principal Components**:\n",
    "   Based on the explained variance ratio and our project's requirements, choose the appropriate number of principal components to retain. we may aim to retain a certain percentage of variance (e.g., 95%) or a specific number of components.\n",
    "\n",
    "\n",
    "7. **Feature Selection**:\n",
    "   Use the selected principal components as our reduced feature set for stock price prediction. These components are a linear combination of the original features and capture the most significant sources of variance in the data.\n",
    "\n",
    "\n",
    "8. **Build and Evaluate Your Model**:\n",
    "   Train our stock price prediction model using the reduced feature set (principal components) and evaluate its performance. we can use various machine learning algorithms such as regression, time series models, or neural networks depending on the nature of the problem.\n",
    "\n",
    "\n",
    "9. **Monitor and Fine-Tune**:\n",
    "   Continuously monitor the performance of your model and consider fine-tuning our feature selection and model parameters as needed to improve prediction accuracy.\n",
    "\n",
    "\n",
    "\n",
    "By using PCA, we can reduce the dimensionality of our dataset while retaining the most critical information, potentially improving the efficiency and interpretability of our stock price prediction model."
   ]
  },
  {
   "cell_type": "code",
   "execution_count": null,
   "id": "efc65e1e",
   "metadata": {},
   "outputs": [],
   "source": []
  },
  {
   "cell_type": "markdown",
   "id": "3b0205fb",
   "metadata": {},
   "source": [
    "### Q7. For a dataset containing the following values: [1, 5, 10, 15, 20], perform Min-Max scaling to transform the values to a range of -1 to 1."
   ]
  },
  {
   "cell_type": "markdown",
   "id": "9d605dd9",
   "metadata": {},
   "source": [
    "To perform Min-Max scaling on a dataset and transform the values to a range of -1 to 1, you need to follow these steps:\n",
    "\n",
    "\n",
    "1. **Calculate the Min and Max Values**: Find the minimum and maximum values in your dataset.\n",
    "\n",
    "   - Minimum value (Min): 1\n",
    "   - Maximum value (Max): 20\n",
    "\n",
    "\n",
    "2. **Apply the Min-Max Scaling Formula**:\n",
    "   Use the Min-Max scaling formula to transform each data point (x) to the desired range:\n",
    "\n",
    "   \\[X_scaled = \\frac{X - X_{min}}{X_{max} - X_{min}} \\cdot (max - min) + min\\]\n",
    "\n",
    "   In your case, \\(min = -1\\) and \\(max = 1\\). Applying the formula:\n",
    "\n",
    "   For each value in your dataset:\n",
    "   - For X = 1:\n",
    "     \\[X_scaled = \\frac{1 - 1}{20 - 1} \\cdot (1 - (-1)) + (-1) = \\frac{0}{19} \\cdot 2 - 1 = -1\\]\n",
    "   - For X = 5:\n",
    "     \\[X_scaled = \\frac{5 - 1}{20 - 1} \\cdot (1 - (-1)) + (-1) = \\frac{4}{19} \\cdot 2 - 1 = -0.1053\\]\n",
    "   - For X = 10:\n",
    "     \\[X_scaled = \\frac{10 - 1}{20 - 1} \\cdot (1 - (-1)) + (-1) = \\frac{9}{19} \\cdot 2 - 1 = 0.5263\\]\n",
    "   - For X = 15:\n",
    "     \\[X_scaled = \\frac{15 - 1}{20 - 1} \\cdot (1 - (-1)) + (-1) = \\frac{14}{19} \\cdot 2 - 1 = 1.1579\\]\n",
    "   - For X = 20:\n",
    "     \\[X_scaled = \\frac{20 - 1}{20 - 1} \\cdot (1 - (-1)) + (-1) = \\frac{19}{19} \\cdot 2 - 1 = 2\\]\n",
    "\n",
    "\n",
    "So, the Min-Max scaled values for your dataset are as follows:\n",
    "\\[[-1, -0.1053, 0.5263, 1.1579, 2]\\]"
   ]
  },
  {
   "cell_type": "code",
   "execution_count": null,
   "id": "0e8c4727",
   "metadata": {},
   "outputs": [],
   "source": []
  },
  {
   "cell_type": "markdown",
   "id": "fccddfe6",
   "metadata": {},
   "source": [
    "### Q8. For a dataset containing the following features: [height, weight, age, gender, blood pressure], perform Feature Extraction using PCA. How many principal components would you choose to retain, and why?"
   ]
  },
  {
   "cell_type": "markdown",
   "id": "6856e839",
   "metadata": {},
   "source": [
    "Deciding how many principal components to retain in a PCA analysis is an important step and depends on your specific goals and the variance explained by each principal component. Here's how you can approach this decision-making process:\n",
    "\n",
    "\n",
    "1. **Standardization**:\n",
    "   Before applying PCA, it's important to standardize or normalize your data, especially for features like height, weight, and age, which may have different units and scales compared to gender and blood pressure.\n",
    "\n",
    "\n",
    "2. **Apply PCA**:\n",
    "   Perform PCA on your dataset. The result will include information on the explained variance for each principal component. This information is crucial for deciding how many components to retain.\n",
    "\n",
    "\n",
    "3. **Explained Variance Ratio**:\n",
    "   The explained variance ratio for each principal component tells you the proportion of the total variance in the data that is explained by that component. Typically, you'll want to retain enough components to explain a substantial portion of the variance. A common threshold is to aim for a cumulative explained variance of around 95% or more.\n",
    "\n",
    "\n",
    "4. **Cumulative Explained Variance**:\n",
    "   Calculate the cumulative explained variance by summing the explained variance ratios as you move along the principal components. Stop adding components when the cumulative explained variance meets your threshold. For example, if you find that the first three principal components explain 90% of the variance, you might decide to retain those three.\n",
    "\n",
    "\n",
    "5. **Interpretability vs. Dimension Reduction**:\n",
    "   Consider the trade-off between dimensionality reduction and interpretability. More principal components may explain more variance but make your model more complex and less interpretable. Fewer components simplify your model but may lose some information. Choose a balance that suits your problem.\n",
    "\n",
    "\n",
    "6. **Domain Knowledge**:\n",
    "   Take into account domain knowledge. If certain features are known to be more relevant for your problem (e.g., blood pressure for a cardiovascular study), you might want to ensure that those features are well-represented in the retained principal components.\n",
    "\n",
    "\n",
    "7. **Model Performance**:\n",
    "   Evaluate the impact of retaining different numbers of principal components on your specific modeling task. You can use techniques like cross-validation to assess how well your model performs with different feature sets.\n",
    "\n",
    "\n",
    "8. **Final Decision**:\n",
    "   Based on the above considerations, make an informed decision on how many principal components to retain. It might be, for example, 2, 3, or more depending on your dataset and goals.\n",
    "\n",
    "\n",
    "Remember that there is no one-size-fits-all answer to how many principal components to retain; it depends on the context of your project. The goal is to strike a balance between dimensionality reduction and preserving enough information to maintain model performance and interpretability."
   ]
  },
  {
   "cell_type": "code",
   "execution_count": 30,
   "id": "4b42842b",
   "metadata": {},
   "outputs": [
    {
     "name": "stdout",
     "output_type": "stream",
     "text": [
      "Number of components retained: 2\n",
      "PCA-transformed data shape: (4, 2)\n"
     ]
    }
   ],
   "source": [
    "import numpy as np\n",
    "from sklearn.decomposition import PCA\n",
    "from sklearn.preprocessing import StandardScaler\n",
    "\n",
    "# Sample dataset with features: height, weight, age, gender, blood pressure\n",
    "data = np.array([\n",
    "    [170, 68, 30, 1, 120],\n",
    "    [160, 55, 25, 0, 130],\n",
    "    [180, 75, 35, 1, 140],\n",
    "    [165, 60, 28, 0, 125],\n",
    "    # Add more data points as needed\n",
    "])\n",
    "\n",
    "# Step 1: Standardize the data\n",
    "scaler = StandardScaler()\n",
    "data_standardized = scaler.fit_transform(data)\n",
    "\n",
    "# Step 2: Apply PCA\n",
    "pca = PCA()\n",
    "pca.fit(data_standardized)\n",
    "\n",
    "# Step 3: Calculate explained variance ratios\n",
    "explained_variance_ratio = pca.explained_variance_ratio_\n",
    "\n",
    "# Step 4: Determine how many components to retain\n",
    "cumulative_variance_ratio = np.cumsum(explained_variance_ratio)\n",
    "threshold = 0.95  # Set your desired explained variance threshold (e.g., 95%)\n",
    "\n",
    "# Find the index where cumulative variance exceeds the threshold\n",
    "num_components_to_retain = np.argmax(cumulative_variance_ratio >= threshold) + 1\n",
    "\n",
    "# Step 5: Retain the selected number of components\n",
    "pca = PCA(n_components=num_components_to_retain)\n",
    "data_pca = pca.fit_transform(data_standardized)\n",
    "\n",
    "# Now 'data_pca' contains the dataset with reduced dimensionality based on the chosen number of components.\n",
    "print(\"Number of components retained:\", num_components_to_retain)\n",
    "print(\"PCA-transformed data shape:\", data_pca.shape)\n"
   ]
  },
  {
   "cell_type": "code",
   "execution_count": null,
   "id": "2c69610f",
   "metadata": {},
   "outputs": [],
   "source": []
  }
 ],
 "metadata": {
  "kernelspec": {
   "display_name": "Python 3 (ipykernel)",
   "language": "python",
   "name": "python3"
  },
  "language_info": {
   "codemirror_mode": {
    "name": "ipython",
    "version": 3
   },
   "file_extension": ".py",
   "mimetype": "text/x-python",
   "name": "python",
   "nbconvert_exporter": "python",
   "pygments_lexer": "ipython3",
   "version": "3.9.12"
  }
 },
 "nbformat": 4,
 "nbformat_minor": 5
}
